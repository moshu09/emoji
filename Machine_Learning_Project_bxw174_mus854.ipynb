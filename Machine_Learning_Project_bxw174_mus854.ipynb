{
  "nbformat": 4,
  "nbformat_minor": 0,
  "metadata": {
    "colab": {
      "name": "Machine_Learning_Project_bxw174_mus854.ipynb",
      "provenance": [],
      "collapsed_sections": [],
      "toc_visible": true
    },
    "kernelspec": {
      "name": "python3",
      "display_name": "Python 3"
    },
    "language_info": {
      "name": "python"
    }
  },
  "cells": [
    {
      "cell_type": "markdown",
      "metadata": {
        "id": "SekhVzsSH0zw"
      },
      "source": [
        "# UTSA CS 6243 - Machine Learning: Final Project\n",
        "\n",
        "Fall 2021\n",
        "\n",
        "Team Members:\n",
        "\n",
        "**Banna - Hasanul - (bxw174)**\n",
        "\n",
        "**Tasnim - Umama - (mus854)**"
      ]
    },
    {
      "cell_type": "markdown",
      "metadata": {
        "id": "cqNBHJyLIsnt"
      },
      "source": [
        "Import Required Libraries"
      ]
    },
    {
      "cell_type": "code",
      "metadata": {
        "id": "psI8_c3d4I2h"
      },
      "source": [
        "import numpy as np\n",
        "import cv2\n",
        "\n",
        "from tensorflow.keras.models import Sequential \n",
        "from keras.layers import Dense, Dropout, Flatten,Conv2D,BatchNormalization\n",
        "from tensorflow.keras.optimizers import Adam,RMSprop,SGD\n",
        "from keras.layers import MaxPooling2D\n",
        "from keras.preprocessing.image import ImageDataGenerator,load_img\n",
        "from tensorflow.keras.callbacks import ModelCheckpoint,EarlyStopping, ReduceLROnPlateau\n",
        "from keras.regularizers import l2\n",
        "import matplotlib.pyplot as plt\n",
        "import os\n",
        "from google.colab import drive"
      ],
      "execution_count": 34,
      "outputs": []
    },
    {
      "cell_type": "markdown",
      "metadata": {
        "id": "VC5De5g7IxWP"
      },
      "source": [
        "Mount Drive Directory"
      ]
    },
    {
      "cell_type": "code",
      "metadata": {
        "colab": {
          "base_uri": "https://localhost:8080/"
        },
        "id": "MCI-muOF4VXN",
        "outputId": "a39b5aa8-d35f-44a5-c95f-9efe48d270d8"
      },
      "source": [
        "drive.mount('/content/drive')\n",
        "dir_train = \"/content/drive/MyDrive/UTSA/Fall_2021/CS-6243_Machine_Learning/Final_Project/dataset/train\"\n",
        "dir_test = \"/content/drive/MyDrive/UTSA/Fall_2021/CS-6243_Machine_Learning/Final_Project/dataset/test\""
      ],
      "execution_count": 35,
      "outputs": [
        {
          "output_type": "stream",
          "name": "stdout",
          "text": [
            "Drive already mounted at /content/drive; to attempt to forcibly remount, call drive.mount(\"/content/drive\", force_remount=True).\n"
          ]
        }
      ]
    },
    {
      "cell_type": "markdown",
      "metadata": {
        "id": "s92SLnXxJA50"
      },
      "source": [
        "Training Initialization"
      ]
    },
    {
      "cell_type": "code",
      "metadata": {
        "colab": {
          "base_uri": "https://localhost:8080/"
        },
        "id": "xZijTRiQ5C73",
        "outputId": "2594248b-f0e0-4c11-d8cd-2d44c7a55a34"
      },
      "source": [
        "# Normalization: Scaling data to the range of 0-1 is traditionally referred to as normalization.\n",
        "train_data_gen = ImageDataGenerator(\n",
        "    rescale=1.0/255,\n",
        "    horizontal_flip = True,\n",
        "    zoom_range=0.2\n",
        ")\n",
        "\n",
        "test_data_gen = ImageDataGenerator(\n",
        "    rescale=1.0/255,\n",
        "    validation_split = 0.2\n",
        ")\n",
        "\n",
        "# Making train data from the set of images.\n",
        "train_data = train_data_gen.flow_from_directory(\n",
        "    directory=dir_train,\n",
        "    target_size= (48,48), #Change later to find the values.\n",
        "    batch_size=48,\n",
        "    color_mode='grayscale',\n",
        "    class_mode='categorical'\n",
        ")\n",
        "# Making test data from the set of images.\n",
        "test_data = train_data_gen.flow_from_directory(\n",
        "    directory=dir_test,\n",
        "    target_size= (48,48), #Change later to find the values.\n",
        "    batch_size=48,\n",
        "    color_mode='grayscale',\n",
        "    class_mode='categorical'\n",
        ")"
      ],
      "execution_count": 36,
      "outputs": [
        {
          "output_type": "stream",
          "name": "stdout",
          "text": [
            "Found 28710 images belonging to 7 classes.\n",
            "Found 7178 images belonging to 7 classes.\n"
          ]
        }
      ]
    },
    {
      "cell_type": "markdown",
      "metadata": {
        "id": "hhF1yyynJs2c"
      },
      "source": [
        "Normalization of the Dataset"
      ]
    },
    {
      "cell_type": "code",
      "metadata": {
        "colab": {
          "base_uri": "https://localhost:8080/",
          "height": 159
        },
        "id": "1M5uDFJ75T_U",
        "outputId": "65081088-8433-41c1-fc78-735d0b535bad"
      },
      "source": [
        "plt.figure(figsize=(14,22))\n",
        "counter = 1\n",
        "for expression in os.listdir(dir_train):\n",
        "    img = load_img((dir_train+\"/\" + expression +'/'+ os.listdir(dir_train +\"/\"+ expression)[1]))\n",
        "    plt.subplot(1,7,counter)\n",
        "    plt.imshow(img)\n",
        "    plt.title(expression)\n",
        "    counter += 1\n",
        "plt.show()"
      ],
      "execution_count": 37,
      "outputs": [
        {
          "output_type": "display_data",
          "data": {
            "image/png": "[encoded data removed]",
            "text/plain": [
              "<Figure size 1008x1584 with 7 Axes>"
            ]
          },
          "metadata": {
            "needs_background": "light"
          }
        }
      ]
    },
    {
      "cell_type": "markdown",
      "metadata": {
        "id": "cN75kOpdJ-9m"
      },
      "source": [
        "Defining CNN"
      ]
    },
    {
      "cell_type": "code",
      "metadata": {
        "id": "r95Ti8bA5pS0"
      },
      "source": [
        "model = Sequential([\n",
        "\n",
        "        # input layer\n",
        "        Conv2D(filters=32,\n",
        "               kernel_size=(3,3),\n",
        "               padding='same',\n",
        "               activation = 'relu',\n",
        "               input_shape=(48,48,1)),\n",
        "        Conv2D(filters=64,\n",
        "               kernel_size=(3,3),\n",
        "               padding='same', \n",
        "               activation='relu'),\n",
        "        BatchNormalization(),\n",
        "        MaxPooling2D(2,2),\n",
        "        Dropout(0.25),\n",
        "\n",
        "        #hidden layers\n",
        "        # 1st layers\n",
        "        Conv2D(filters=128,\n",
        "               kernel_size=(3,3), \n",
        "               padding='same', \n",
        "               activation='relu',\n",
        "               kernel_regularizer=l2(0.001)),\n",
        "    \n",
        "        # 2nd layer\n",
        "        Conv2D(filters=256, \n",
        "               kernel_size=(3,3), \n",
        "               padding='same', \n",
        "               activation='relu',\n",
        "               kernel_regularizer=l2(0.001)),\n",
        "        BatchNormalization(),\n",
        "        MaxPooling2D(2,2),\n",
        "        Dropout(0.25),\n",
        "    \n",
        "     # 3rd layer\n",
        "        Conv2D(filters=512, \n",
        "               kernel_size=(3,3), \n",
        "               padding='same', \n",
        "               activation='relu',\n",
        "               kernel_regularizer=l2(0.001)),\n",
        "        BatchNormalization(),\n",
        "        MaxPooling2D(2,2),\n",
        "        Dropout(0.25),\n",
        "    \n",
        "        # Flattenning the layer and passing making NN\n",
        "        Flatten(),\n",
        "        Dense(1024, activation='relu'),\n",
        "        BatchNormalization(),\n",
        "        Dropout(0.5),\n",
        "    \n",
        "    \n",
        "        # output layer\n",
        "        Dense(7, activation='softmax')\n",
        "    ])\n",
        "model.compile(loss='categorical_crossentropy',optimizer=Adam(learning_rate=0.01,),metrics=['accuracy'])"
      ],
      "execution_count": 38,
      "outputs": []
    },
    {
      "cell_type": "markdown",
      "metadata": {
        "id": "ajdBHPKFKFkE"
      },
      "source": [
        "Printing the summary of the model"
      ]
    },
    {
      "cell_type": "code",
      "metadata": {
        "colab": {
          "base_uri": "https://localhost:8080/"
        },
        "id": "4tUmUBes5u69",
        "outputId": "72fc8c5e-7bc1-49f6-9b1a-d9818830b9ec"
      },
      "source": [
        "model.summary()"
      ],
      "execution_count": 39,
      "outputs": [
        {
          "output_type": "stream",
          "name": "stdout",
          "text": [
            "Model: \"sequential_2\"\n",
            "_________________________________________________________________\n",
            " Layer (type)                Output Shape              Param #   \n",
            "=================================================================\n",
            " conv2d_10 (Conv2D)          (None, 48, 48, 32)        320       \n",
            "                                                                 \n",
            " conv2d_11 (Conv2D)          (None, 48, 48, 64)        18496     \n",
            "                                                                 \n",
            " batch_normalization_8 (Batc  (None, 48, 48, 64)       256       \n",
            " hNormalization)                                                 \n",
            "                                                                 \n",
            " max_pooling2d_6 (MaxPooling  (None, 24, 24, 64)       0         \n",
            " 2D)                                                             \n",
            "                                                                 \n",
            " dropout_8 (Dropout)         (None, 24, 24, 64)        0         \n",
            "                                                                 \n",
            " conv2d_12 (Conv2D)          (None, 24, 24, 128)       73856     \n",
            "                                                                 \n",
            " conv2d_13 (Conv2D)          (None, 24, 24, 256)       295168    \n",
            "                                                                 \n",
            " batch_normalization_9 (Batc  (None, 24, 24, 256)      1024      \n",
            " hNormalization)                                                 \n",
            "                                                                 \n",
            " max_pooling2d_7 (MaxPooling  (None, 12, 12, 256)      0         \n",
            " 2D)                                                             \n",
            "                                                                 \n",
            " dropout_9 (Dropout)         (None, 12, 12, 256)       0         \n",
            "                                                                 \n",
            " conv2d_14 (Conv2D)          (None, 12, 12, 512)       1180160   \n",
            "                                                                 \n",
            " batch_normalization_10 (Bat  (None, 12, 12, 512)      2048      \n",
            " chNormalization)                                                \n",
            "                                                                 \n",
            " max_pooling2d_8 (MaxPooling  (None, 6, 6, 512)        0         \n",
            " 2D)                                                             \n",
            "                                                                 \n",
            " dropout_10 (Dropout)        (None, 6, 6, 512)         0         \n",
            "                                                                 \n",
            " flatten_2 (Flatten)         (None, 18432)             0         \n",
            "                                                                 \n",
            " dense_4 (Dense)             (None, 1024)              18875392  \n",
            "                                                                 \n",
            " batch_normalization_11 (Bat  (None, 1024)             4096      \n",
            " chNormalization)                                                \n",
            "                                                                 \n",
            " dropout_11 (Dropout)        (None, 1024)              0         \n",
            "                                                                 \n",
            " dense_5 (Dense)             (None, 7)                 7175      \n",
            "                                                                 \n",
            "=================================================================\n",
            "Total params: 20,457,991\n",
            "Trainable params: 20,454,279\n",
            "Non-trainable params: 3,712\n",
            "_________________________________________________________________\n"
          ]
        }
      ]
    },
    {
      "cell_type": "markdown",
      "metadata": {
        "id": "CQ_NBFuWhxay"
      },
      "source": [
        "Callbacks"
      ]
    },
    {
      "cell_type": "code",
      "metadata": {
        "id": "A6OtqxtX532p"
      },
      "source": [
        "filepath = \"emotion-detector.hdf5\"\n",
        "checkpoint = ModelCheckpoint(filepath,\n",
        "                             monitor=\"val_accuracy\",\n",
        "                             verbose=1,\n",
        "                             save_best_only=True,\n",
        "                             mode=\"min\")\n",
        "\n",
        "earlystop = EarlyStopping(monitor='val_accuracy',\n",
        "                          verbose=1, \n",
        "                          min_delta=0, \n",
        "                          patience=15, \n",
        "                          restore_best_weights=True)\n",
        "\n",
        "reduce_lr = ReduceLROnPlateau(monitor='val_loss', \n",
        "                              verbose=1,\n",
        "                              factor=0.2, \n",
        "                              patience=6, \n",
        "                              min_delta=0.0001)\n",
        "\n",
        "callbacks = [checkpoint, earlystop, reduce_lr]"
      ],
      "execution_count": 41,
      "outputs": []
    },
    {
      "cell_type": "markdown",
      "metadata": {
        "id": "A9iXjj5KhzC6"
      },
      "source": [
        "Train the Model"
      ]
    },
    {
      "cell_type": "code",
      "metadata": {
        "id": "zZdugDN95__z"
      },
      "source": [
        "emotion_model_info = model.fit(\n",
        "        train_data,\n",
        "        steps_per_epoch=train_data.samples // 48,\n",
        "        epochs=100,\n",
        "        validation_data=test_data,\n",
        "        validation_steps=test_data.samples // 48,\n",
        "        callbacks=callbacks)\n",
        "model.save_weights(\"emotion_model.h5\")"
      ],
      "execution_count": null,
      "outputs": []
    },
    {
      "cell_type": "markdown",
      "metadata": {
        "id": "LCP8f8YGh7My"
      },
      "source": [
        "Saving the Model"
      ]
    },
    {
      "cell_type": "code",
      "metadata": {
        "id": "xQm3nW8JFzHb"
      },
      "source": [
        "model.save_weights(\"emotion_model.h5\")"
      ],
      "execution_count": 25,
      "outputs": []
    },
    {
      "cell_type": "code",
      "metadata": {
        "id": "6-WqZu40F72i"
      },
      "source": [
        "model.save_weights('model.h5')\n",
        "print(emotion_model_info.history.keys())\n",
        "plt.plot(range(50),emotion_model_info.history[\"accuracy\"],label=\"train\")\n",
        "plt.plot(range(50),emotion_model_info.history[\"val_accuracy\"],label=\"validation\")\n",
        "plt.legend(loc=\"best\")\n",
        "plt.xlabel(\"Epochs\")\n",
        "plt.ylabel(\"Accuracy\")\n",
        "plt.title(\"Train and Valid Accuracy over the epochs\",size=15)\n",
        "plt.savefig('acc_val_acc.png', transparent=True)"
      ],
      "execution_count": null,
      "outputs": []
    },
    {
      "cell_type": "code",
      "metadata": {
        "id": "oQFBCDQbF9N-"
      },
      "source": [
        "print(emotion_model_info.history.keys())\n",
        "plt.plot(range(50),emotion_model_info.history[\"val_loss\"],label=\"validation\")\n",
        "plt.plot(range(50),emotion_model_info.history[\"loss\"],label=\"train\")\n",
        "plt.legend(loc=\"best\")\n",
        "plt.xlabel(\"Epochs\")\n",
        "plt.ylabel(\"Loss\")\n",
        "plt.title(\"Train and Valid Loss over the epochs\",size=15)\n",
        "plt.savefig('val_loss_vs_loss.png', transparent=True)"
      ],
      "execution_count": null,
      "outputs": []
    },
    {
      "cell_type": "code",
      "metadata": {
        "id": "mPOf8lzGGBPS"
      },
      "source": [
        "train_loss, train_accu = model.evaluate(train_data)\n",
        "test_loss, test_accu = model.evaluate(test_data)\n",
        "print(\"Final training accuracy = {:.2f} , validation accuracy = {:.2f}\".format(train_accu*100, test_accu*100))\n",
        "print(\"Final training loss = {:.2f} , validation loss = {:.2f}\".format(train_loss, test_loss))"
      ],
      "execution_count": null,
      "outputs": []
    },
    {
      "cell_type": "markdown",
      "metadata": {
        "id": "K2nJD2A5iMzk"
      },
      "source": [
        "Emotion detection using OpenCV"
      ]
    },
    {
      "cell_type": "code",
      "metadata": {
        "id": "oZL1eCwbGFdp"
      },
      "source": [
        "# define a video capture object\n",
        "emotion_dict = {0: \"Angry\", 1: \"Disgusted\", 2: \"Fearful\", 3: \"Happy\", 4: \"Neutral\", 5: \"Sad\", 6: \"Surprised\"}\n",
        "vid_path = (\"/content/drive/MyDrive/UTSA/Fall_2021/CS-6243_Machine_Learning/Final_Project/test.mp4\")\n",
        "vid = cv2.VideoCapture(vid_path)\n",
        "while(True):\n",
        "\n",
        "    # Capture the video frame by frame\n",
        "    ret, frame = vid.read()\n",
        "\n",
        "    if not ret:\n",
        "        break\n",
        "\n",
        "    face_region = cv2.CascadeClassifier(\"/content/drive/MyDrive/UTSA/Fall_2021/CS-6243_Machine_Learning/Final_Project/haarcascade_frontalface_default.xml\")\n",
        "    #face_region = cv2.CascadeClassifier(\n",
        "    #    cv2.data.haarcascades+\n",
        "    #    \"haarcascade_frontalface_default.xml\"\n",
        "    #)\n",
        "\n",
        "    # converting to grayscale, as IT take value in opposite direction BGR, using grayscale\n",
        "    # make it easy to compute as it only has one channel only.\n",
        "    gray = cv2.cvtColor(frame, cv2.COLOR_BGR2GRAY)\n",
        "    faces = face_region.detectMultiScale(\n",
        "        gray, scaleFactor=1.3, minNeighbors=5)\n",
        "\n",
        "    if faces == ():\n",
        "        print(\"No faces found\")\n",
        "\n",
        "    for (x, y, w, h) in faces:\n",
        "        cv2.rectangle(frame, (x, y), (x+w, y+h), (127, 0, 255), 2)\n",
        "        roi_gray = gray[y:y+h, x:x+w]\n",
        "        cropped_img = np.expand_dims(np.expand_dims(\n",
        "            cv2.resize(roi_gray, (48, 48)), -1), 0)\n",
        "        prediction = model.predict(cropped_img)\n",
        "        max_index = int(np.argmax(prediction))\n",
        "        cv2.putText(frame, emotion_dict[max_index], (x+15, y+20),\n",
        "                    cv2.FONT_HERSHEY_SCRIPT_SIMPLEX, 1, (127, 0, 255), 2, cv2.LINE_4)\n",
        "    # Display the resulting frameq\n",
        "    cv2.imshow(\"frame\", frame)\n",
        "    # the 'q' button is set as the\n",
        "    # quitting button you may use any\n",
        "    # desired button of your choice\n",
        "    if cv2.waitKey(1) & 0xFF == ord('q'):\n",
        "        break\n",
        "\n",
        "# After the loop release the cap object\n",
        "vid.release()\n",
        "# Destroy all the windows\n",
        "cv2.destroyAllWindows()"
      ],
      "execution_count": null,
      "outputs": []
    }
  ]
}